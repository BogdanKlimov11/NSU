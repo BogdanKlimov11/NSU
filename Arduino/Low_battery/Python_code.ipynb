{
  "nbformat": 4,
  "nbformat_minor": 0,
  "metadata": {
    "colab": {
      "provenance": []
    },
    "kernelspec": {
      "name": "python3",
      "display_name": "Python 3"
    },
    "language_info": {
      "name": "python"
    }
  },
  "cells": [
    {
      "cell_type": "code",
      "execution_count": null,
      "metadata": {
        "id": "WjEZIhpM80JR"
      },
      "outputs": [],
      "source": [
        "import serial\n",
        "import matplotlib.pyplot as plt\n",
        "from IPython.display import clear_output\n",
        "import time"
      ]
    },
    {
      "cell_type": "code",
      "source": [
        "ser = serial.Serial('COM4', 9600, timeout = 0, write_timeout = None) # настройка COM-порта\n",
        "time.sleep(2)\n",
        "\n",
        "plt.ion() # интерактивный режим\n",
        "fig, ax = plt.subplots()\n",
        "x_data, y_data = [], []\n",
        "line, = ax.plot(x_data, y_data, 'r-')\n",
        "ax.set_xlabel('Время (с)')\n",
        "ax.set_ylabel('Напряжение (В)')\n",
        "ax.set_title('Разрядка батарейки')"
      ],
      "metadata": {
        "id": "EKjbZGoH84ho"
      },
      "execution_count": null,
      "outputs": []
    },
    {
      "cell_type": "code",
      "source": [
        "try:\n",
        "    while True:\n",
        "        if ser.in_waiting > 0:\n",
        "            data = ser.readline().decode('utf-8').strip()\n",
        "            if data:\n",
        "                try:\n",
        "                    t, v = map(float, data.split(','))\n",
        "                    x_data.append(t)\n",
        "                    y_data.append(v)\n",
        "\n",
        "                    # обновляем график\n",
        "                    line.set_xdata(x_data)\n",
        "                    line.set_ydata(y_data)\n",
        "                    ax.relim()\n",
        "                    ax.autoscale_view()\n",
        "                    fig.canvas.draw()\n",
        "                    clear_output(wait=True) # очистка для плавности\n",
        "                    plt.pause(0.01)\n",
        "                except ValueError:\n",
        "                    pass\n",
        "except KeyboardInterrupt:\n",
        "    ser.close()\n",
        "    print(\"Соединение закрыто!\")"
      ],
      "metadata": {
        "id": "NwtkWT_r9fYn"
      },
      "execution_count": null,
      "outputs": []
    }
  ]
}