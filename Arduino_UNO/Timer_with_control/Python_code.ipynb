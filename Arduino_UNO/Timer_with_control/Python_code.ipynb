{
 "cells": [
  {
   "cell_type": "code",
   "execution_count": 1,
   "id": "ee641f0e-88db-4aaa-b00c-d1da85dca6fd",
   "metadata": {},
   "outputs": [],
   "source": [
    "import serial\n",
    "\n",
    "import time\n",
    "\n",
    "tm = 0\n",
    "ser = serial.Serial('COM4', 9600, timeout = 0, write_timeout = None)\n",
    "\n",
    "def start():\n",
    "    ser.write(b'1')\n",
    "\n",
    "def stop():\n",
    "    ser.write(b'0')\n",
    "\n",
    "def restart():\n",
    "    ser.write(b'2')"
   ]
  },
  {
   "cell_type": "code",
   "execution_count": 3,
   "id": "2e774892-79d7-4a12-bb46-b648c29de76a",
   "metadata": {},
   "outputs": [],
   "source": [
    "# команда\n",
    "# stop()\n",
    "# start()\n",
    "# restart()"
   ]
  },
  {
   "cell_type": "code",
   "execution_count": null,
   "id": "7ec3b61c-4afa-42ea-b937-ca6b146ac3a6",
   "metadata": {},
   "outputs": [],
   "source": [
    "ser.close()"
   ]
  }
 ],
 "metadata": {
  "kernelspec": {
   "display_name": "Python 3 (ipykernel)",
   "language": "python",
   "name": "python3"
  },
  "language_info": {
   "codemirror_mode": {
    "name": "ipython",
    "version": 3
   },
   "file_extension": ".py",
   "mimetype": "text/x-python",
   "name": "python",
   "nbconvert_exporter": "python",
   "pygments_lexer": "ipython3",
   "version": "3.11.7"
  }
 },
 "nbformat": 4,
 "nbformat_minor": 5
}
