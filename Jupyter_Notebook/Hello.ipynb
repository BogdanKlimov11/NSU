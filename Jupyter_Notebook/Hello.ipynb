# Это ячейка с кодом на Python
name = input("Введите ваше имя: ")
print("Привет, ", name, "! Добро пожаловать в Jupyter Notebook!")
